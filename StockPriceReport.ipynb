{
  "nbformat": 4,
  "nbformat_minor": 0,
  "metadata": {
    "colab": {
      "provenance": []
    },
    "kernelspec": {
      "name": "python3",
      "display_name": "Python 3"
    },
    "language_info": {
      "name": "python"
    }
  },
  "cells": [
    {
      "cell_type": "markdown",
      "source": [
        "Stock Price Prediction Using LSTM - Project Report\n",
        "Introduction\n",
        "The goal of this project was to predict stock prices using machine learning, specifically employing a Long Short-Term Memory (LSTM) model. LSTM is a type of Recurrent Neural Network (RNN) capable of learning and predicting time-dependent data, making it an ideal candidate for time series forecasting tasks, such as predicting stock prices. In this project, I built and trained a deep learning model to forecast stock prices based on historical data of a company (Apple Inc. in this case).\n",
        "\n",
        "This report will explain the steps taken throughout the project, from data collection and preprocessing to model training and evaluation.\n",
        "\n",
        "Problem Statement\n",
        "Stock prices fluctuate based on a variety of factors such as market trends, company performance, and global events. The aim of this project was to create a machine learning model capable of analyzing historical stock prices and predicting the next day’s price based on past data. More specifically, the goal was to develop a model that could predict the next day’s closing price of stocks.\n",
        "\n",
        "Tools and Technologies Used\n",
        "Python: The primary programming language used throughout the project.\n",
        "TensorFlow and Keras: These libraries were used to build and train the LSTM model.\n",
        "yfinance: A Python library to fetch historical stock data directly from Yahoo Finance.\n",
        "Pandas: Used for data manipulation and analysis, particularly to handle time series data.\n",
        "NumPy: Used for numerical operations and array manipulation.\n",
        "Matplotlib: Used for visualizing the stock price predictions against the actual stock prices.\n",
        "scikit-learn: Used for data preprocessing and splitting data into training and testing sets.\n",
        "Approach\n",
        "1. Data Collection\n",
        "The first step in the project was to collect the historical stock price data for Apple Inc. (AAPL). I used the yfinance library to download the stock data, including attributes like the stock’s Open, High, Low, Close, Adj Close, and Volume. The data was collected for the period starting from January 1, 2010, until January 1, 2025.\n",
        "\n",
        "2. Data Preprocessing\n",
        "Selecting Relevant Data\n",
        "Since the goal of the project was to predict the stock’s closing price, I extracted only the Close price column from the dataset.\n",
        "\n",
        "Normalization\n",
        "Machine learning models perform better when the data is normalized. To achieve this, I used the MinMaxScaler from scikit-learn to scale the closing prices between 0 and 1.\n",
        "\n",
        "Creating Time Sequences\n",
        "Since LSTM models are designed to learn from sequences of data, I created input sequences using the previous 60 days of stock prices to predict the price of the next day. Each sequence contains 60 previous days' data, and the target value is the next day’s stock price.\n",
        "\n",
        "Reshaping Data for LSTM\n",
        "The LSTM model expects input in a 3D array format: (samples, time steps, features). Therefore, I reshaped the data into this format to be compatible with the LSTM model.\n",
        "\n",
        "Splitting Data into Training and Testing Sets\n",
        "To evaluate the model's performance, I split the data into training and testing sets, with 80% of the data used for training and 20% for testing.\n",
        "\n",
        "3. Building the LSTM Model\n",
        "With the data prepared, I built a Sequential LSTM model using the TensorFlow and Keras libraries. The model consists of two LSTM layers and a dense output layer:\n",
        "\n",
        "First LSTM layer: The first LSTM layer has 50 units and returns sequences because the next LSTM layer needs to process the sequence of outputs.\n",
        "Second LSTM layer: This layer also has 50 units but does not return sequences since it’s the final layer before the output.\n",
        "Dense output layer: The output layer consists of a single unit to predict the stock price for the next day.\n",
        "4. Training the Model\n",
        "The model was trained using the training data for 10 epochs with a batch size of 32. The optimizer used was Adam, and the loss function was Mean Squared Error (MSE), which is commonly used in regression tasks.\n",
        "\n",
        "5. Making Predictions\n",
        "Once the model was trained, I used it to make predictions on the testing data, which the model had not seen before. The predictions were then inverse-transformed back to the original price scale using the scaler.\n",
        "\n",
        "6. Visualization\n",
        "To visually assess the model’s performance, I plotted the actual closing stock prices against the predicted values. This allowed for a direct comparison of the model’s predictions with the true stock prices.\n",
        "\n",
        "7. Model Evaluation\n",
        "To evaluate the model's performance, I calculated the Mean Absolute Error (MAE) and Mean Squared Error (MSE) between the predicted values and the actual stock prices. These metrics help quantify the model's prediction error.\n",
        "\n",
        "Results\n",
        "The model successfully predicted the stock prices based on historical data, with the predicted values shown alongside the actual stock prices. The Mean Absolute Error (MAE) and Mean Squared Error (MSE) metrics gave an indication of the prediction error, though further tuning of the model (e.g., hyperparameter optimization) could potentially improve the accuracy.\n",
        "\n",
        "Visualization of Results\n",
        "The plot below shows the predicted and actual stock prices for the test set:\n",
        "\n",
        "Future Work\n",
        "Model Improvement: We can experiment with more advanced models such as GRU (Gated Recurrent Units) or Transformer-based models to enhance performance.\n",
        "Feature Engineering: Incorporating other features such as volume, technical indicators (e.g., Moving Averages), or even sentiment analysis from financial news could potentially improve the accuracy of predictions.\n",
        "Hyperparameter Tuning: Fine-tuning the LSTM model’s parameters (e.g., number of units, learning rate) could help improve prediction accuracy.\n",
        "Conclusion\n",
        "This project demonstrates the use of LSTM networks for stock price prediction based on historical data. The model successfully predicted stock prices, and the process highlighted the importance of preprocessing, data normalization, and careful model design. Further experimentation and fine-tuning could improve the model’s performance, making it a useful tool for stock price forecasting.\n",
        "\n"
      ],
      "metadata": {
        "id": "xpPosBu9qUmC"
      }
    }
  ]
}